{
 "cells": [
  {
   "cell_type": "markdown",
   "source": [
    "# ACC Data Analysis"
   ],
   "metadata": {
    "collapsed": false
   }
  },
  {
   "cell_type": "code",
   "execution_count": null,
   "outputs": [],
   "source": [
    "# Import libraries\n",
    "import pandas as pd\n",
    "import matplotlib.pyplot as plt"
   ],
   "metadata": {
    "collapsed": false,
    "pycharm": {
     "is_executing": true
    }
   }
  },
  {
   "cell_type": "code",
   "execution_count": null,
   "outputs": [],
   "source": [
    "# Constants\n",
    "chart_size_x = 8\n",
    "chart_size_y = 6"
   ],
   "metadata": {
    "collapsed": false
   }
  },
  {
   "cell_type": "code",
   "execution_count": null,
   "metadata": {
    "collapsed": true
   },
   "outputs": [],
   "source": [
    "# Import CSV\n",
    "df = pd.read_csv(\"ACC-Data-2022-10-30-00-11-33.csv\", index_col=0)"
   ]
  },
  {
   "cell_type": "code",
   "execution_count": null,
   "outputs": [],
   "source": [
    "# Data cleaning\n",
    "# Data frame \"df\" contains all relevant data points\n",
    "df = df[df[\"Session\"] == 2]\n",
    "df = df[df[\"LapsCompleted\"] > 0]\n",
    "df.dtypes"
   ],
   "metadata": {
    "collapsed": false
   }
  },
  {
   "cell_type": "code",
   "execution_count": null,
   "outputs": [],
   "source": [
    "# Data cleaning pt. 2\n",
    "# Data frame \"df_laps\" contains data from the first data point after a new lap begins\n",
    "df_laps = df.drop_duplicates(subset=\"LapsCompleted\")\n",
    "df_laps = df_laps.iloc[1:]\n",
    "df_laps"
   ],
   "metadata": {
    "collapsed": false
   }
  },
  {
   "cell_type": "code",
   "execution_count": null,
   "outputs": [],
   "source": [
    "# Tyre Pressure\n",
    "x_axis = df[\"LapsCompleted\"] + df[\"TrackPosition\"]\n",
    "y_axis_1, y_axis_2, y_axis_3, y_axis_4  = df[\"TyrePressureFrontLeft\"], df[\"TyrePressureFrontRight\"], df[\"TyrePressureRearLeft\"], df[\"TyrePressureRearRight\"]\n",
    "plt.figure(figsize=(chart_size_x,chart_size_y))\n",
    "y_max = max([df[\"TyrePressureFrontLeft\"].max(), df[\"TyrePressureFrontRight\"].max(), df[\"TyrePressureRearLeft\"].max(), df[\"TyrePressureRearRight\"].max()])\n",
    "y_min = min([df[\"TyrePressureFrontLeft\"].min(), df[\"TyrePressureFrontRight\"].min(), df[\"TyrePressureRearLeft\"].min(), df[\"TyrePressureRearRight\"].min()])\n",
    "plt.ylim(y_min * 0.98, y_max * 1.02)\n",
    "plt.scatter(x_axis, y_axis_1, s=1, label=\"Front Left\")\n",
    "plt.scatter(x_axis, y_axis_2, s=1, label=\"Front Right\")\n",
    "plt.scatter(x_axis, y_axis_3, s=1, label=\"Rear Left\")\n",
    "plt.scatter(x_axis, y_axis_4, s=1, label=\"Rear Right\")\n",
    "plt.grid()\n",
    "plt.legend(loc=\"upper left\")\n",
    "plt.show()"
   ],
   "metadata": {
    "collapsed": false
   }
  },
  {
   "cell_type": "code",
   "execution_count": null,
   "outputs": [],
   "source": [
    "# Tyre Temperature\n",
    "x_axis = df[\"LapsCompleted\"] + df[\"TrackPosition\"]\n",
    "y_axis_1, y_axis_2, y_axis_3, y_axis_4  = df[\"TyreTemperatureFrontLeft\"], df[\"TyreTemperatureFrontRight\"], df[\"TyreTemperatureRearLeft\"], df[\"TyreTemperatureRearRight\"]\n",
    "plt.figure(figsize=(chart_size_x,chart_size_y))\n",
    "y_max = max([df[\"TyreTemperatureFrontLeft\"].max(), df[\"TyreTemperatureFrontRight\"].max(), df[\"TyreTemperatureRearLeft\"].max(), df[\"TyreTemperatureRearRight\"].max()])\n",
    "y_min = min([df[\"TyreTemperatureFrontLeft\"].min(), df[\"TyreTemperatureFrontRight\"].min(), df[\"TyreTemperatureRearLeft\"].min(), df[\"TyreTemperatureRearRight\"].min()])\n",
    "plt.ylim(y_min * 0.98, y_max * 1.02)\n",
    "plt.scatter(x_axis, y_axis_1, s=1, label=\"Front Left\")\n",
    "plt.scatter(x_axis, y_axis_2, s=1, label=\"Front Right\")\n",
    "plt.scatter(x_axis, y_axis_3, s=1, label=\"Rear Left\")\n",
    "plt.scatter(x_axis, y_axis_4, s=1, label=\"Rear Right\")\n",
    "plt.legend(loc=\"upper left\")\n",
    "plt.grid()\n",
    "plt.show()"
   ],
   "metadata": {
    "collapsed": false
   }
  },
  {
   "cell_type": "code",
   "execution_count": null,
   "outputs": [],
   "source": [
    "# Brake Temperature\n",
    "x_axis = df[\"LapsCompleted\"] + df[\"TrackPosition\"]\n",
    "y_axis_1, y_axis_2, y_axis_3, y_axis_4  = df[\"BrakeTemperatureFrontLeft\"], df[\"BrakeTemperatureFrontRight\"], df[\"BrakeTemperatureRearLeft\"], df[\"BrakeTemperatureRearRight\"]\n",
    "plt.figure(figsize=(chart_size_x,chart_size_y))\n",
    "y_max = max([df[\"BrakeTemperatureFrontLeft\"].max(), df[\"BrakeTemperatureFrontRight\"].max(), df[\"BrakeTemperatureRearLeft\"].max(), df[\"BrakeTemperatureRearRight\"].max()])\n",
    "y_min = min([df[\"BrakeTemperatureFrontLeft\"].min(), df[\"BrakeTemperatureFrontRight\"].min(), df[\"BrakeTemperatureRearLeft\"].min(), df[\"BrakeTemperatureRearRight\"].min()])\n",
    "plt.ylim(y_min * 0.98, y_max * 1.02)\n",
    "plt.scatter(x_axis, y_axis_1, s=1, label=\"Front Left\")\n",
    "plt.scatter(x_axis, y_axis_2, s=1, label=\"Front Right\")\n",
    "plt.scatter(x_axis, y_axis_3, s=1, label=\"Rear Left\")\n",
    "plt.scatter(x_axis, y_axis_4, s=1, label=\"Rear Right\")\n",
    "plt.legend(loc=\"upper left\")\n",
    "plt.grid()\n",
    "plt.show()"
   ],
   "metadata": {
    "collapsed": false
   }
  }
 ],
 "metadata": {
  "kernelspec": {
   "display_name": "Python 3",
   "language": "python",
   "name": "python3"
  },
  "language_info": {
   "codemirror_mode": {
    "name": "ipython",
    "version": 2
   },
   "file_extension": ".py",
   "mimetype": "text/x-python",
   "name": "python",
   "nbconvert_exporter": "python",
   "pygments_lexer": "ipython2",
   "version": "2.7.6"
  }
 },
 "nbformat": 4,
 "nbformat_minor": 0
}
